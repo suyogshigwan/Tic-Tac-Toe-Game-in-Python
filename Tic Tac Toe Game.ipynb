{
 "cells": [
  {
   "cell_type": "markdown",
   "id": "e5bb7586",
   "metadata": {},
   "source": [
    "Step1: write a function that can print out a board. Set up your board as a list,where each index 1-9 coreresponds with a number on number pad, so you get a 3 by 3 board representation."
   ]
  },
  {
   "cell_type": "code",
   "execution_count": 1,
   "id": "815343f6",
   "metadata": {},
   "outputs": [],
   "source": [
    "from IPython.display import clear_output\n",
    "\n",
    "def display_board(board):\n",
    "    clear_output()\n",
    "    print('   |   |')\n",
    "    print(' ' + board[7] + ' | ' + board[8] + ' | ' + board[9])\n",
    "    print('   |   |')\n",
    "    print('-----------')\n",
    "    print('   |   |')\n",
    "    print(' ' + board[4] + ' | ' + board[5] + ' | ' + board[6])\n",
    "    print('   |   |')\n",
    "    print('-----------')\n",
    "    print('   |   |')\n",
    "    print(' ' + board[1] + ' | ' + board[2] + ' | ' + board[3])\n",
    "    print('   |   |')\n",
    "    "
   ]
  },
  {
   "cell_type": "markdown",
   "id": "ee6b9004",
   "metadata": {},
   "source": [
    "Test step 1: run your function on a test version of the board list."
   ]
  },
  {
   "cell_type": "code",
   "execution_count": 2,
   "id": "cbc61653",
   "metadata": {
    "scrolled": false
   },
   "outputs": [
    {
     "name": "stdout",
     "output_type": "stream",
     "text": [
      "   |   |\n",
      "   |   |  \n",
      "   |   |\n",
      "-----------\n",
      "   |   |\n",
      "   |   |  \n",
      "   |   |\n",
      "-----------\n",
      "   |   |\n",
      "   |   |  \n",
      "   |   |\n"
     ]
    }
   ],
   "source": [
    "test_board = [' ']*10\n",
    "\n",
    "display_board(test_board)"
   ]
  },
  {
   "cell_type": "markdown",
   "id": "a2b870b5",
   "metadata": {},
   "source": [
    "Step 2: Write a function that can take player input and assign thier marker as 'X' or 'O'."
   ]
  },
  {
   "cell_type": "code",
   "execution_count": 3,
   "id": "4843001e",
   "metadata": {},
   "outputs": [],
   "source": [
    "def player_input():\n",
    "    \n",
    "    '''\n",
    "    OUTPUT = (Player 1 marker, Player 2 marker)\n",
    "    \n",
    "    '''\n",
    "    \n",
    "    marker = ''\n",
    "    \n",
    "    while marker != 'X' and marker != 'O':\n",
    "        \n",
    "        marker = input('player 1: choose between X or O: ').upper()\n",
    "        \n",
    "        \n",
    "    if marker == 'X':\n",
    "        return ('X', 'O')\n",
    "    else:\n",
    "        return ('O','X')\n",
    "    "
   ]
  },
  {
   "cell_type": "markdown",
   "id": "49225c87",
   "metadata": {},
   "source": [
    "Test Step 2: run the function to make sure it returns the desired output"
   ]
  },
  {
   "cell_type": "code",
   "execution_count": 4,
   "id": "be2cca58",
   "metadata": {},
   "outputs": [
    {
     "name": "stdout",
     "output_type": "stream",
     "text": [
      "player 1: choose between X or O: o\n"
     ]
    }
   ],
   "source": [
    "player1_marker,player2_marker = player_input()"
   ]
  },
  {
   "cell_type": "code",
   "execution_count": 5,
   "id": "c5a67ab2",
   "metadata": {},
   "outputs": [
    {
     "data": {
      "text/plain": [
       "'O'"
      ]
     },
     "execution_count": 5,
     "metadata": {},
     "output_type": "execute_result"
    }
   ],
   "source": [
    "player1_marker"
   ]
  },
  {
   "cell_type": "code",
   "execution_count": 6,
   "id": "a280d38b",
   "metadata": {},
   "outputs": [
    {
     "data": {
      "text/plain": [
       "'X'"
      ]
     },
     "execution_count": 6,
     "metadata": {},
     "output_type": "execute_result"
    }
   ],
   "source": [
    "player2_marker"
   ]
  },
  {
   "cell_type": "markdown",
   "id": "96655623",
   "metadata": {},
   "source": [
    "Step3: Write a function that takes in the board list object ,a marker ('X' or 'O'), and desired position (number1-9) and assign it to board"
   ]
  },
  {
   "cell_type": "code",
   "execution_count": 7,
   "id": "1254451d",
   "metadata": {},
   "outputs": [],
   "source": [
    "def place_marker(board,marker,position):\n",
    "    \n",
    "    board[position] = marker"
   ]
  },
  {
   "cell_type": "markdown",
   "id": "28227bae",
   "metadata": {},
   "source": [
    "Test step 3: run the place marker function using test parameters and display the modified board"
   ]
  },
  {
   "cell_type": "code",
   "execution_count": 8,
   "id": "e5932fd7",
   "metadata": {},
   "outputs": [
    {
     "name": "stdout",
     "output_type": "stream",
     "text": [
      "   |   |\n",
      "   |   |  \n",
      "   |   |\n",
      "-----------\n",
      "   |   |\n",
      "   |   |  \n",
      "   |   |\n",
      "-----------\n",
      "   |   |\n",
      " X |   |  \n",
      "   |   |\n"
     ]
    }
   ],
   "source": [
    "place_marker(test_board,'X',1)\n",
    "\n",
    "display_board(test_board)"
   ]
  },
  {
   "cell_type": "markdown",
   "id": "8e4b2c77",
   "metadata": {},
   "source": [
    "step 4: Write a function that takes in a board and a mark (X or O) and then checks to see if that mark has won."
   ]
  },
  {
   "cell_type": "code",
   "execution_count": 9,
   "id": "4db9df44",
   "metadata": {},
   "outputs": [],
   "source": [
    "def win_check(board,mark):\n",
    "    \n",
    "    \n",
    "    return ((board[7] == mark and board[8] == mark and board[9] == mark) or # across the top\n",
    "    (board[4] == mark and board[5] == mark and board[6] == mark) or # across the middle\n",
    "    (board[1] == mark and board[2] == mark and board[3] == mark) or # across the bottom\n",
    "    (board[7] == mark and board[4] == mark and board[1] == mark) or # down the middle\n",
    "    (board[8] == mark and board[5] == mark and board[2] == mark) or # down the middle\n",
    "    (board[9] == mark and board[6] == mark and board[3] == mark) or # down the right side\n",
    "    (board[7] == mark and board[5] == mark and board[3] == mark) or # diagonal\n",
    "    (board[9] == mark and board[5] == mark and board[1] == mark)) # diagonal"
   ]
  },
  {
   "cell_type": "markdown",
   "id": "93a0ba5f",
   "metadata": {},
   "source": [
    "Test step 4: Run win_check function against our test_board - it should return True"
   ]
  },
  {
   "cell_type": "code",
   "execution_count": 10,
   "id": "11ca4a74",
   "metadata": {},
   "outputs": [
    {
     "data": {
      "text/plain": [
       "False"
      ]
     },
     "execution_count": 10,
     "metadata": {},
     "output_type": "execute_result"
    }
   ],
   "source": [
    "win_check(test_board, 'X')"
   ]
  },
  {
   "cell_type": "markdown",
   "id": "e22b02c9",
   "metadata": {},
   "source": [
    "step 5: write a function that uses randon maodule to randomly decide which player goes first."
   ]
  },
  {
   "cell_type": "code",
   "execution_count": 11,
   "id": "e39eedbf",
   "metadata": {},
   "outputs": [],
   "source": [
    "import random\n",
    "\n",
    "def choose_first():\n",
    "    \n",
    "    flip = random.randint(0,1)\n",
    "    \n",
    "    if flip == 0:\n",
    "        return 'player1'\n",
    "    else:\n",
    "        return 'player2'\n"
   ]
  },
  {
   "cell_type": "markdown",
   "id": "0664f399",
   "metadata": {},
   "source": [
    "step 6: Write a function that returns a boolean indicating whether a spece on the board is freely available"
   ]
  },
  {
   "cell_type": "code",
   "execution_count": 12,
   "id": "edb80917",
   "metadata": {},
   "outputs": [],
   "source": [
    "def space_check(board,position):\n",
    "    \n",
    "    return board[position] == ' '"
   ]
  },
  {
   "cell_type": "markdown",
   "id": "d579f79a",
   "metadata": {},
   "source": [
    "step 7: write a function that checks if board is full  and returns boolean value. True if full, Flase otherwise. "
   ]
  },
  {
   "cell_type": "code",
   "execution_count": 13,
   "id": "cf02b69a",
   "metadata": {},
   "outputs": [],
   "source": [
    "def full_board_check(board):\n",
    "    \n",
    "    for i in range(1,10):\n",
    "        if space_check(board,i):\n",
    "            return False\n",
    "    return True\n",
    "            "
   ]
  },
  {
   "cell_type": "markdown",
   "id": "a7a57bbe",
   "metadata": {},
   "source": [
    "step 8: Write a function that asks for a player's next position (as a number 1-9) and then uses the function from step 6 to check if its a free position. If it is, then return the position for later use."
   ]
  },
  {
   "cell_type": "code",
   "execution_count": 14,
   "id": "b868c175",
   "metadata": {},
   "outputs": [],
   "source": [
    "def player_choice(board):\n",
    "    position = 0\n",
    "    \n",
    "    while position not in [1,2,3,4,5,6,7,8,9] or not space_check(board, position):\n",
    "        position = int(input('Choose your next position: (1-9) '))\n",
    "        \n",
    "    return position"
   ]
  },
  {
   "cell_type": "markdown",
   "id": "081cfeb7",
   "metadata": {},
   "source": [
    "Step 9: Write a function that asks the player if they want to play again and returns a boolean True if they do want to play again."
   ]
  },
  {
   "cell_type": "code",
   "execution_count": 15,
   "id": "d759ddd7",
   "metadata": {},
   "outputs": [],
   "source": [
    "def replay():\n",
    "    \n",
    "    choice = input(\" play again? Enter Yes or No\")\n",
    "    return choice == 'Yes'"
   ]
  },
  {
   "cell_type": "markdown",
   "id": "06ec5665",
   "metadata": {},
   "source": [
    "Step 10: Use while loop and the functions you have made to run game!"
   ]
  },
  {
   "cell_type": "code",
   "execution_count": null,
   "id": "b8a139bb",
   "metadata": {},
   "outputs": [
    {
     "name": "stdout",
     "output_type": "stream",
     "text": [
      "   |   |\n",
      " O | O | X\n",
      "   |   |\n",
      "-----------\n",
      "   |   |\n",
      " X | O | O\n",
      "   |   |\n",
      "-----------\n",
      "   |   |\n",
      " O | X | X\n",
      "   |   |\n",
      "TIE Game!\n"
     ]
    }
   ],
   "source": [
    "print('Welocome to Tic Tac Toe')\n",
    "\n",
    "while True:\n",
    "    #play the game\n",
    "    \n",
    "    ##set the game (board,whos first,set_markers)\n",
    "    \n",
    "    the_board = [' ']*10\n",
    "    \n",
    "    player1_marker,player2_marker = player_input()\n",
    "    \n",
    "    turn = choose_first()\n",
    "    \n",
    "    print(turn +'will go first')\n",
    "    \n",
    "    play_game = input('ready to play? y or n?')\n",
    "    \n",
    "    if play_game == 'y':\n",
    "        game_on = True\n",
    "    else:\n",
    "        game_on = False\n",
    "        \n",
    "    ##Game Play\n",
    "    \n",
    "    while game_on:\n",
    "        \n",
    "        if turn == 'player1':\n",
    "            \n",
    "            #show the borad\n",
    "            display_board(the_board)\n",
    "            \n",
    "            #choose the position\n",
    "            \n",
    "            position = player_choice(the_board)\n",
    "            \n",
    "            #place the marker on the board\n",
    "            \n",
    "            place_marker(the_board,player1_marker,position)\n",
    "            \n",
    "            # check if they won\n",
    "            \n",
    "            if win_check(the_board,player1_marker):\n",
    "                display_board(the_board)\n",
    "                print('player1 has won')\n",
    "                game_on = False\n",
    "            else:\n",
    "                if full_board_check(the_board):\n",
    "                    display_board(the_board)\n",
    "                    print('TIE Game!')\n",
    "                    game_on = False\n",
    "                else:\n",
    "                    turn = 'player2'\n",
    "                    \n",
    "                    \n",
    "        else:\n",
    "            #show the borad\n",
    "            display_board(the_board)\n",
    "            \n",
    "            #choose the position\n",
    "            \n",
    "            position = player_choice(the_board)\n",
    "            \n",
    "            #place the marker on the board\n",
    "            \n",
    "            place_marker(the_board,player2_marker,position)\n",
    "            \n",
    "            # check if they won\n",
    "            \n",
    "            if win_check(the_board,player2_marker):\n",
    "                display_board(the_board)\n",
    "                print('player2 has won')\n",
    "                game_on = false\n",
    "            else:\n",
    "                if full_board_check(the_board):\n",
    "                    display_board(the_board)\n",
    "                    print('TIE Game!')\n",
    "                    game_on = False\n",
    "                else:\n",
    "                    turn = 'player1'   \n",
    "            \n",
    "             \n",
    "                \n",
    "            \n",
    "    if not replay():\n",
    "        break"
   ]
  }
 ],
 "metadata": {
  "kernelspec": {
   "display_name": "Python 3 (ipykernel)",
   "language": "python",
   "name": "python3"
  },
  "language_info": {
   "codemirror_mode": {
    "name": "ipython",
    "version": 3
   },
   "file_extension": ".py",
   "mimetype": "text/x-python",
   "name": "python",
   "nbconvert_exporter": "python",
   "pygments_lexer": "ipython3",
   "version": "3.9.7"
  }
 },
 "nbformat": 4,
 "nbformat_minor": 5
}
